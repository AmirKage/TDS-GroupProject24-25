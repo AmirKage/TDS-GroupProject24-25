{
  "nbformat": 4,
  "nbformat_minor": 0,
  "metadata": {
    "colab": {
      "provenance": [],
      "include_colab_link": true
    },
    "kernelspec": {
      "name": "python3",
      "display_name": "Python 3"
    },
    "language_info": {
      "name": "python"
    }
  },
  "cells": [
    {
      "cell_type": "markdown",
      "metadata": {
        "id": "view-in-github",
        "colab_type": "text"
      },
      "source": [
        "<a href=\"https://colab.research.google.com/github/AmirKage/TDS-GroupProject24-25/blob/Final-Project_Chia-Yang-Kao/Testing_01.ipynb\" target=\"_parent\"><img src=\"https://colab.research.google.com/assets/colab-badge.svg\" alt=\"Open In Colab\"/></a>"
      ]
    },
    {
      "cell_type": "code",
      "execution_count": 5,
      "metadata": {
        "id": "sZQP1wYUev_8",
        "outputId": "db0f28a6-1274-4e9b-c93f-72acfdca523d",
        "colab": {
          "base_uri": "https://localhost:8080/"
        }
      },
      "outputs": [
        {
          "output_type": "stream",
          "name": "stdout",
          "text": [
            "Requirement already satisfied: transformers in /usr/local/lib/python3.11/dist-packages (4.47.1)\n",
            "Requirement already satisfied: filelock in /usr/local/lib/python3.11/dist-packages (from transformers) (3.16.1)\n",
            "Requirement already satisfied: huggingface-hub<1.0,>=0.24.0 in /usr/local/lib/python3.11/dist-packages (from transformers) (0.27.1)\n",
            "Requirement already satisfied: numpy>=1.17 in /usr/local/lib/python3.11/dist-packages (from transformers) (1.26.4)\n",
            "Requirement already satisfied: packaging>=20.0 in /usr/local/lib/python3.11/dist-packages (from transformers) (24.2)\n",
            "Requirement already satisfied: pyyaml>=5.1 in /usr/local/lib/python3.11/dist-packages (from transformers) (6.0.2)\n",
            "Requirement already satisfied: regex!=2019.12.17 in /usr/local/lib/python3.11/dist-packages (from transformers) (2024.11.6)\n",
            "Requirement already satisfied: requests in /usr/local/lib/python3.11/dist-packages (from transformers) (2.32.3)\n",
            "Requirement already satisfied: tokenizers<0.22,>=0.21 in /usr/local/lib/python3.11/dist-packages (from transformers) (0.21.0)\n",
            "Requirement already satisfied: safetensors>=0.4.1 in /usr/local/lib/python3.11/dist-packages (from transformers) (0.5.2)\n",
            "Requirement already satisfied: tqdm>=4.27 in /usr/local/lib/python3.11/dist-packages (from transformers) (4.67.1)\n",
            "Requirement already satisfied: fsspec>=2023.5.0 in /usr/local/lib/python3.11/dist-packages (from huggingface-hub<1.0,>=0.24.0->transformers) (2024.10.0)\n",
            "Requirement already satisfied: typing-extensions>=3.7.4.3 in /usr/local/lib/python3.11/dist-packages (from huggingface-hub<1.0,>=0.24.0->transformers) (4.12.2)\n",
            "Requirement already satisfied: charset-normalizer<4,>=2 in /usr/local/lib/python3.11/dist-packages (from requests->transformers) (3.4.1)\n",
            "Requirement already satisfied: idna<4,>=2.5 in /usr/local/lib/python3.11/dist-packages (from requests->transformers) (3.10)\n",
            "Requirement already satisfied: urllib3<3,>=1.21.1 in /usr/local/lib/python3.11/dist-packages (from requests->transformers) (2.3.0)\n",
            "Requirement already satisfied: certifi>=2017.4.17 in /usr/local/lib/python3.11/dist-packages (from requests->transformers) (2024.12.14)\n"
          ]
        }
      ],
      "source": [
        "# Install HuggingFace Library\n",
        "!pip install transformers\n",
        "\n",
        "# Import Necessary Libraries\n",
        "from transformers import pipeline"
      ]
    },
    {
      "cell_type": "code",
      "source": [
        "import json\n",
        "\n",
        "# Path to your JSON file\n",
        "file_path = r\"/content/Q&ADataset2.json\"  # Ensure this is the full path to your JSON file, including the file name.\n",
        "\n",
        "# Load JSON data\n",
        "with open(file_path, \"r\", encoding=\"utf-8-sig\") as file: #encoding=\"utf-8-sig\" handles potential Byte Order Mark (BOM) characters\n",
        "    data = json.load(file)\n",
        "\n",
        "# Function to categorize answers based on length\n",
        "def categorize_answer_length(answer_text):\n",
        "    word_count = len(answer_text.split())\n",
        "    if word_count <= 5:\n",
        "        return \"short\"\n",
        "    elif word_count <= 20:\n",
        "        return \"moderate\"\n",
        "    else:\n",
        "        return \"long\"\n",
        "\n",
        "# Add difficulty field to each answer, but only if 'answers' key exists\n",
        "for item in data:\n",
        "    # Check if the 'answers' key exists in the current item\n",
        "    if \"answers\" in item:\n",
        "        for answer in item[\"answers\"]:\n",
        "            answer[\"difficulty\"] = categorize_answer_length(answer[\"text\"])\n",
        "\n",
        "\n",
        "\n",
        "# Save the updated dataset\n",
        "updated_file_path = r\"/content/questionnaire_labeled.json\" # Update with desired save path\n",
        "with open(updated_file_path, \"w\", encoding=\"utf-8\") as file:\n",
        "    json.dump(data, file, indent=4)  # indent=4 for pretty printing\n",
        "\n",
        "print(f\"Labeled dataset saved to {updated_file_path}\")"
      ],
      "metadata": {
        "id": "y048utkSgBnN",
        "outputId": "03b10482-502d-4526-ccc6-58aa71f4e1a1",
        "colab": {
          "base_uri": "https://localhost:8080/"
        }
      },
      "execution_count": 16,
      "outputs": [
        {
          "output_type": "stream",
          "name": "stdout",
          "text": [
            "Labeled dataset saved to /content/questionnaire_labeled.json\n"
          ]
        }
      ]
    },
    {
      "cell_type": "code",
      "source": [
        "import json\n",
        "\n",
        "# Load the labeled dataset\n",
        "labeled_file_path = r\"/content/questionnaire_labeled.json\"\n",
        "with open(labeled_file_path, \"r\", encoding=\"utf-8\") as file:\n",
        "    labeled_data = json.load(file)\n",
        "\n",
        "print(f\"Loaded labeled dataset with {len(labeled_data)} entries.\")\n",
        "\n"
      ],
      "metadata": {
        "id": "DgCwyl3GOnzO",
        "outputId": "19d8f8e8-2aab-4fde-b9b0-30f124525510",
        "colab": {
          "base_uri": "https://localhost:8080/"
        }
      },
      "execution_count": 17,
      "outputs": [
        {
          "output_type": "stream",
          "name": "stdout",
          "text": [
            "Loaded labeled dataset with 20 entries.\n"
          ]
        }
      ]
    },
    {
      "cell_type": "code",
      "source": [
        "from transformers import pipeline\n",
        "\n",
        "# Load a pre-trained Question-Answering model\n",
        "qa_pipeline = pipeline(\"question-answering\", model=\"deepset/roberta-base-squad2\")\n",
        "\n",
        "print(\"QA pipeline is ready for use.\")\n"
      ],
      "metadata": {
        "id": "uggVg03wO4Uh",
        "outputId": "83e2ad18-7738-4b4a-e8b9-cd6c6fea6c3f",
        "colab": {
          "base_uri": "https://localhost:8080/"
        }
      },
      "execution_count": 18,
      "outputs": [
        {
          "output_type": "stream",
          "name": "stderr",
          "text": [
            "Device set to use cpu\n"
          ]
        },
        {
          "output_type": "stream",
          "name": "stdout",
          "text": [
            "QA pipeline is ready for use.\n"
          ]
        }
      ]
    },
    {
      "cell_type": "code",
      "source": [
        "# Check if labeled_data is loaded\n",
        "print(f\"Loaded {len(labeled_data)} entries in labeled_data.\")\n",
        "\n",
        "results = []\n",
        "\n",
        "for item in labeled_data:\n",
        "    question = item[\"question\"]\n",
        "    context = item[\"context\"]\n",
        "\n",
        "    print(f\"Processing Question: {question}\")  # Print each question to track progress\n",
        "\n",
        "    # Check if answers exist\n",
        "    if \"answers\" not in item or not item[\"answers\"]:\n",
        "        print(f\"Skipping Question: {question}, no answers found.\")\n",
        "        continue\n",
        "\n",
        "    # Iterate through all standard answers\n",
        "    for answer in item[\"answers\"]:\n",
        "        # Model inference\n",
        "        model_output = qa_pipeline({\"question\": question, \"context\": context})\n",
        "        print(f\"Model Output: {model_output}\")  # Debugging model output\n",
        "\n",
        "        # Record the result\n",
        "        results.append({\n",
        "            \"Question\": question,\n",
        "            \"Context\": context,\n",
        "            \"Model Answer\": model_output.get(\"answer\", \"\"),\n",
        "            \"Correct Answer\": answer[\"text\"],\n",
        "            \"Difficulty\": answer.get(\"difficulty\", \"N/A\"),\n",
        "            \"Score\": model_output.get(\"score\", 0),\n",
        "            \"Is Correct\": model_output.get(\"answer\", \"\").strip().lower() == answer[\"text\"].strip().lower()\n",
        "        })\n",
        "\n",
        "# Print the first few results\n",
        "if results:\n",
        "    for res in results[:5]:\n",
        "        print(res)\n",
        "else:\n",
        "    print(\"No results generated.\")\n"
      ],
      "metadata": {
        "id": "Esb2Sa6_O_LV",
        "outputId": "a63ae5fc-9cc5-4683-8930-b6b535c3a3b9",
        "colab": {
          "base_uri": "https://localhost:8080/"
        }
      },
      "execution_count": 20,
      "outputs": [
        {
          "output_type": "stream",
          "name": "stdout",
          "text": [
            "Loaded 20 entries in labeled_data.\n",
            "Processing Question: What role does guilt play in Amir's relationship with Hassan in 'The Kite Runner'?\n",
            "Skipping Question: What role does guilt play in Amir's relationship with Hassan in 'The Kite Runner'?, no answers found.\n",
            "Processing Question: How does Jane Eyre assert her independence in the face of societal norms?\n",
            "Skipping Question: How does Jane Eyre assert her independence in the face of societal norms?, no answers found.\n",
            "Processing Question: What does the green light symbolize in 'The Great Gatsby'?\n",
            "Skipping Question: What does the green light symbolize in 'The Great Gatsby'?, no answers found.\n",
            "Processing Question: How does George Orwell explore the theme of surveillance in '1984'?\n",
            "Skipping Question: How does George Orwell explore the theme of surveillance in '1984'?, no answers found.\n",
            "Processing Question: What role does social class play in the relationships depicted in 'Pride and Prejudice'?\n",
            "Skipping Question: What role does social class play in the relationships depicted in 'Pride and Prejudice'?, no answers found.\n",
            "Processing Question: How does 'To Kill a Mockingbird' address the theme of moral courage?\n",
            "Skipping Question: How does 'To Kill a Mockingbird' address the theme of moral courage?, no answers found.\n",
            "Processing Question: What is the significance of the title 'Of Mice and Men'?\n",
            "Skipping Question: What is the significance of the title 'Of Mice and Men'?, no answers found.\n",
            "Processing Question: How does Mary Shelley explore the theme of isolation in 'Frankenstein'?\n",
            "Skipping Question: How does Mary Shelley explore the theme of isolation in 'Frankenstein'?, no answers found.\n",
            "Processing Question: What role does fate play in the lives of Romeo and Juliet?\n",
            "Skipping Question: What role does fate play in the lives of Romeo and Juliet?, no answers found.\n",
            "Processing Question: How does J.K. Rowling portray the theme of choice in 'Harry Potter and the Chamber of Secrets'?\n",
            "Skipping Question: How does J.K. Rowling portray the theme of choice in 'Harry Potter and the Chamber of Secrets'?, no answers found.\n",
            "Processing Question: How does the narrative structure in 'Cloud Atlas' emphasize the interconnectedness of human lives?\n",
            "Skipping Question: How does the narrative structure in 'Cloud Atlas' emphasize the interconnectedness of human lives?, no answers found.\n",
            "Processing Question: What is the role of unreliable narration in 'The Girl on the Train'?\n",
            "Skipping Question: What is the role of unreliable narration in 'The Girl on the Train'?, no answers found.\n",
            "Processing Question: How does the concept of 'The Loop' in 'Dark Matter' explore the philosophical implications of choice?\n",
            "Skipping Question: How does the concept of 'The Loop' in 'Dark Matter' explore the philosophical implications of choice?, no answers found.\n",
            "Processing Question: How does Toni Morrison use symbolism to address intergenerational trauma in 'Beloved'?\n",
            "Skipping Question: How does Toni Morrison use symbolism to address intergenerational trauma in 'Beloved'?, no answers found.\n",
            "Processing Question: In 'Circe,' how does Madeline Miller reinterpret Greek mythology to critique power dynamics?\n",
            "Skipping Question: In 'Circe,' how does Madeline Miller reinterpret Greek mythology to critique power dynamics?, no answers found.\n",
            "Processing Question: What role does systemic oppression play in the dystopian society of 'The Handmaid’s Tale'?\n",
            "Skipping Question: What role does systemic oppression play in the dystopian society of 'The Handmaid’s Tale'?, no answers found.\n",
            "Processing Question: How does the epistolary format in 'The Color Purple' deepen the emotional impact of the story?\n",
            "Skipping Question: How does the epistolary format in 'The Color Purple' deepen the emotional impact of the story?, no answers found.\n",
            "Processing Question: What does the motif of food represent in 'Like Water for Chocolate'?\n",
            "Skipping Question: What does the motif of food represent in 'Like Water for Chocolate'?, no answers found.\n",
            "Processing Question: How does Octavia Butler address the theme of power and hierarchy in 'Kindred'?\n",
            "Skipping Question: How does Octavia Butler address the theme of power and hierarchy in 'Kindred'?, no answers found.\n",
            "Processing Question: What is the significance of the recurring motif of mirrors in 'Neverwhere'?\n",
            "Skipping Question: What is the significance of the recurring motif of mirrors in 'Neverwhere'?, no answers found.\n",
            "No results generated.\n"
          ]
        }
      ]
    },
    {
      "cell_type": "code",
      "source": [
        "from collections import defaultdict\n",
        "\n",
        "# Calculate accuracy for different difficulty levels\n",
        "accuracy_by_difficulty = defaultdict(lambda: {\"correct\": 0, \"total\": 0})\n",
        "\n",
        "for res in results:\n",
        "    difficulty = res[\"Difficulty\"]\n",
        "    accuracy_by_difficulty[difficulty][\"total\"] += 1\n",
        "    if res[\"Is Correct\"]:\n",
        "        accuracy_by_difficulty[difficulty][\"correct\"] += 1\n",
        "\n",
        "# Print accuracy rates\n",
        "for difficulty, stats in accuracy_by_difficulty.items():\n",
        "    accuracy = stats[\"correct\"] / stats[\"total\"] * 100\n",
        "    print(f\"Accuracy for {difficulty} answers: {accuracy:.2f}%\")\n"
      ],
      "metadata": {
        "id": "cvzC-P9-PEW5"
      },
      "execution_count": 21,
      "outputs": []
    },
    {
      "cell_type": "code",
      "source": [
        "import matplotlib.pyplot as plt\n",
        "\n",
        "# Prepare data\n",
        "difficulties = list(accuracy_by_difficulty.keys())\n",
        "accuracies = [accuracy_by_difficulty[d][\"correct\"] / accuracy_by_difficulty[d][\"total\"] * 100 for d in difficulties]\n",
        "\n",
        "# Plot a bar chart\n",
        "plt.bar(difficulties, accuracies)\n",
        "plt.xlabel(\"Answer Difficulty\")  # Label for the x-axis\n",
        "plt.ylabel(\"Accuracy (%)\")       # Label for the y-axis\n",
        "plt.title(\"Model Performance on Different Answer Difficulties\")  # Title of the chart\n",
        "plt.show()\n",
        "\n"
      ],
      "metadata": {
        "id": "y_hoy_3mPIaK",
        "outputId": "c13eb1e8-657d-4487-fdbf-6f9d1c8cb02c",
        "colab": {
          "base_uri": "https://localhost:8080/",
          "height": 472
        }
      },
      "execution_count": 22,
      "outputs": [
        {
          "output_type": "display_data",
          "data": {
            "text/plain": [
              "<Figure size 640x480 with 1 Axes>"
            ],
            "image/png": "[encoded data removed]"
          },
          "metadata": {}
        }
      ]
    },
    {
      "cell_type": "code",
      "source": [
        "import pandas as pd\n",
        "\n",
        "# Convert results into a DataFrame\n",
        "results_df = pd.DataFrame(results)\n",
        "\n",
        "# Save as a CSV file\n",
        "results_file_path = r\"/content/qa_results.csv\"\n",
        "results_df.to_csv(results_file_path, index=False)\n",
        "\n",
        "print(f\"Results saved to {results_file_path}\")\n",
        "\n"
      ],
      "metadata": {
        "id": "BRGgX0zEPO-p",
        "outputId": "b7b1462f-a14a-4ba2-e9bb-83892eb5b497",
        "colab": {
          "base_uri": "https://localhost:8080/"
        }
      },
      "execution_count": 23,
      "outputs": [
        {
          "output_type": "stream",
          "name": "stdout",
          "text": [
            "Results saved to /content/qa_results.csv\n"
          ]
        }
      ]
    }
  ]
}