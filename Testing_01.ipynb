{
  "nbformat": 4,
  "nbformat_minor": 0,
  "metadata": {
    "colab": {
      "provenance": [],
      "authorship_tag": "ABX9TyN2xnW7dj7524e6lbH2CuCh",
      "include_colab_link": true
    },
    "kernelspec": {
      "name": "python3",
      "display_name": "Python 3"
    },
    "language_info": {
      "name": "python"
    }
  },
  "cells": [
    {
      "cell_type": "markdown",
      "metadata": {
        "id": "view-in-github",
        "colab_type": "text"
      },
      "source": [
        "<a href=\"https://colab.research.google.com/github/AmirKage/TDS-GroupProject24-25/blob/Group_work_AmirKage/Testing_01.ipynb\" target=\"_parent\"><img src=\"https://colab.research.google.com/assets/colab-badge.svg\" alt=\"Open In Colab\"/></a>"
      ]
    },
    {
      "cell_type": "code",
      "execution_count": 40,
      "metadata": {
        "id": "sZQP1wYUev_8",
        "outputId": "4a45dd34-7a33-4484-f376-3a4880b9b0ea",
        "colab": {
          "base_uri": "https://localhost:8080/"
        }
      },
      "outputs": [
        {
          "output_type": "stream",
          "name": "stdout",
          "text": [
            "Requirement already satisfied: transformers in /usr/local/lib/python3.11/dist-packages (4.47.1)\n",
            "Requirement already satisfied: filelock in /usr/local/lib/python3.11/dist-packages (from transformers) (3.16.1)\n",
            "Requirement already satisfied: huggingface-hub<1.0,>=0.24.0 in /usr/local/lib/python3.11/dist-packages (from transformers) (0.27.1)\n",
            "Requirement already satisfied: numpy>=1.17 in /usr/local/lib/python3.11/dist-packages (from transformers) (1.26.4)\n",
            "Requirement already satisfied: packaging>=20.0 in /usr/local/lib/python3.11/dist-packages (from transformers) (24.2)\n",
            "Requirement already satisfied: pyyaml>=5.1 in /usr/local/lib/python3.11/dist-packages (from transformers) (6.0.2)\n",
            "Requirement already satisfied: regex!=2019.12.17 in /usr/local/lib/python3.11/dist-packages (from transformers) (2024.11.6)\n",
            "Requirement already satisfied: requests in /usr/local/lib/python3.11/dist-packages (from transformers) (2.32.3)\n",
            "Requirement already satisfied: tokenizers<0.22,>=0.21 in /usr/local/lib/python3.11/dist-packages (from transformers) (0.21.0)\n",
            "Requirement already satisfied: safetensors>=0.4.1 in /usr/local/lib/python3.11/dist-packages (from transformers) (0.5.2)\n",
            "Requirement already satisfied: tqdm>=4.27 in /usr/local/lib/python3.11/dist-packages (from transformers) (4.67.1)\n",
            "Requirement already satisfied: fsspec>=2023.5.0 in /usr/local/lib/python3.11/dist-packages (from huggingface-hub<1.0,>=0.24.0->transformers) (2024.9.0)\n",
            "Requirement already satisfied: typing-extensions>=3.7.4.3 in /usr/local/lib/python3.11/dist-packages (from huggingface-hub<1.0,>=0.24.0->transformers) (4.12.2)\n",
            "Requirement already satisfied: charset-normalizer<4,>=2 in /usr/local/lib/python3.11/dist-packages (from requests->transformers) (3.4.1)\n",
            "Requirement already satisfied: idna<4,>=2.5 in /usr/local/lib/python3.11/dist-packages (from requests->transformers) (3.10)\n",
            "Requirement already satisfied: urllib3<3,>=1.21.1 in /usr/local/lib/python3.11/dist-packages (from requests->transformers) (2.3.0)\n",
            "Requirement already satisfied: certifi>=2017.4.17 in /usr/local/lib/python3.11/dist-packages (from requests->transformers) (2024.12.14)\n"
          ]
        }
      ],
      "source": [
        "# Install HuggingFace Library\n",
        "!pip install transformers\n",
        "\n",
        "# Import Necessary Libraries\n",
        "from transformers import pipeline"
      ]
    },
    {
      "cell_type": "code",
      "source": [
        "import json\n",
        "\n",
        "# Path to your JSON file\n",
        "file_path = r\"/content/QADataset.json\"  # Ensure this is the full path to your JSON file, including the file name.\n",
        "\n",
        "# Load JSON data\n",
        "with open(file_path, \"r\", encoding=\"utf-8-sig\") as file: #encoding=\"utf-8-sig\" handles potential Byte Order Mark (BOM) characters\n",
        "    data = json.load(file)\n",
        "\n",
        "# Function to categorize answers based on length\n",
        "def categorize_answer_length(answer_text):\n",
        "    word_count = len(answer_text.split())\n",
        "    if word_count <= 5:\n",
        "        return \"short\"\n",
        "    elif word_count <= 20:\n",
        "        return \"moderate\"\n",
        "    else:\n",
        "        return \"long\"\n",
        "\n",
        "# Add difficulty field to each answer, but only if 'answers' key exists\n",
        "for item in data:\n",
        "    # Check if the 'answers' key exists in the current item\n",
        "    if \"answers\" in item:\n",
        "        for answer in item[\"answers\"]:\n",
        "            answer[\"difficulty\"] = categorize_answer_length(answer[\"text\"])\n",
        "\n",
        "\n",
        "\n",
        "# Save the updated dataset\n",
        "updated_file_path = r\"/content/questionnaire_labeled.json\" # Update with desired save path\n",
        "with open(updated_file_path, \"w\", encoding=\"utf-8\") as file:\n",
        "    json.dump(data, file, indent=4)  # indent=4 for pretty printing\n",
        "\n",
        "print(f\"Labeled dataset saved to {updated_file_path}\")"
      ],
      "metadata": {
        "id": "y048utkSgBnN",
        "outputId": "5d55be3a-afcd-475b-d2ee-809fa4acf69d",
        "colab": {
          "base_uri": "https://localhost:8080/"
        }
      },
      "execution_count": 44,
      "outputs": [
        {
          "output_type": "stream",
          "name": "stdout",
          "text": [
            "Labeled dataset saved to /content/questionnaire_labeled.json\n"
          ]
        }
      ]
    }
  ]
}