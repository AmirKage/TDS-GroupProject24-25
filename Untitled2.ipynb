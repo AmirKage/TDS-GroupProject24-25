{
  "nbformat": 4,
  "nbformat_minor": 0,
  "metadata": {
    "colab": {
      "provenance": [],
      "authorship_tag": "ABX9TyNFXBxi59ANOmAHB2Lg2Soa",
      "include_colab_link": true
    },
    "kernelspec": {
      "name": "python3",
      "display_name": "Python 3"
    },
    "language_info": {
      "name": "python"
    }
  },
  "cells": [
    {
      "cell_type": "markdown",
      "metadata": {
        "id": "view-in-github",
        "colab_type": "text"
      },
      "source": [
        "<a href=\"https://colab.research.google.com/github/AmirKage/TDS-GroupProject24-25/blob/Final-Project_Chia-Yang-Kao/Untitled2.ipynb\" target=\"_parent\"><img src=\"https://colab.research.google.com/assets/colab-badge.svg\" alt=\"Open In Colab\"/></a>"
      ]
    },
    {
      "cell_type": "code",
      "execution_count": 2,
      "metadata": {
        "colab": {
          "base_uri": "https://localhost:8080/"
        },
        "id": "WlAXlGfOsD31",
        "outputId": "21513c60-527e-4680-b1fb-5226e4a481c1"
      },
      "outputs": [
        {
          "output_type": "stream",
          "name": "stdout",
          "text": [
            "數據處理完成，已保存為 expanded_dataset.csv 和 expanded_dataset.json\n"
          ]
        }
      ],
      "source": [
        "import pandas as pd\n",
        "import random\n",
        "import json\n",
        "\n",
        "# 加載 JSON 數據\n",
        "with open(\"questionnaire1.json\", \"r\") as f:\n",
        "    data = json.load(f)\n",
        "\n",
        "# 將 JSON 數據轉換為 DataFrame\n",
        "restructured_data = []\n",
        "for item in data:\n",
        "    question = item[\"question\"]\n",
        "    options = [opt[\"option\"] for opt in item[\"options\"]]\n",
        "    for opt in options:\n",
        "        restructured_data.append({\"Question\": question, \"Answer\": opt})\n",
        "\n",
        "df = pd.DataFrame(restructured_data)\n",
        "\n",
        "# 添加新問題和答案\n",
        "def generate_similar_questions(question, num_new=3):\n",
        "    \"\"\"模擬生成新問題\"\"\"\n",
        "    templates = [\n",
        "        f\"What do you think about {question.lower()}?\",\n",
        "        f\"Could you share more about {question.lower()}?\",\n",
        "        f\"How do you feel regarding {question.lower()}?\",\n",
        "    ]\n",
        "    return random.sample(templates, num_new)\n",
        "\n",
        "def generate_answers(base_answers, num_answers=10):\n",
        "    \"\"\"模擬生成答案\"\"\"\n",
        "    new_answers = []\n",
        "    for _ in range(num_answers):\n",
        "        random_answer = random.choice(base_answers)\n",
        "        modified_answer = f\"{random_answer} (example {random.randint(1, 100)})\"\n",
        "        new_answers.append(modified_answer)\n",
        "    return new_answers\n",
        "\n",
        "# 增強數據\n",
        "expanded_data = []\n",
        "for index, row in df.iterrows():\n",
        "    question = row[\"Question\"]\n",
        "    answers = df[df[\"Question\"] == question][\"Answer\"].tolist()\n",
        "    new_questions = generate_similar_questions(question)\n",
        "    for new_question in new_questions:\n",
        "        new_answers = generate_answers(answers)\n",
        "        for answer in new_answers:\n",
        "            expanded_data.append({\"Question\": new_question, \"Answer\": answer})\n",
        "\n",
        "# 轉換為新的 DataFrame\n",
        "expanded_df = pd.DataFrame(expanded_data)\n",
        "\n",
        "# 為答案添加標籤\n",
        "def label_tone(answer):\n",
        "    if \"yes\" in answer.lower():\n",
        "        return \"Positive\"\n",
        "    elif \"no\" in answer.lower():\n",
        "        return \"Negative\"\n",
        "    else:\n",
        "        return \"Neutral\"\n",
        "\n",
        "expanded_df[\"Tone\"] = expanded_df[\"Answer\"].apply(label_tone)\n",
        "\n",
        "# 保存為 CSV 和 JSON 文件\n",
        "expanded_df.to_csv(\"expanded_dataset.csv\", index=False, encoding=\"utf-8\")\n",
        "expanded_df.to_json(\"expanded_dataset.json\", orient=\"records\", indent=4)\n",
        "\n",
        "print(\"數據處理完成，已保存為 expanded_dataset.csv 和 expanded_dataset.json\")\n"
      ]
    },
    {
      "cell_type": "code",
      "source": [
        "import pandas as pd\n",
        "import random\n",
        "import json\n",
        "\n",
        "# Load the JSON file containing the original data\n",
        "with open(\"questionnaire1.json\", \"r\") as f:\n",
        "    data = json.load(f)\n",
        "\n",
        "# Convert the JSON data into a DataFrame\n",
        "restructured_data = []\n",
        "for item in data:\n",
        "    question = item[\"question\"]\n",
        "    options = [opt[\"option\"] for opt in item[\"options\"]]\n",
        "    for opt in options:\n",
        "        restructured_data.append({\"Question\": question, \"Answer\": opt})\n",
        "\n",
        "df = pd.DataFrame(restructured_data)\n",
        "\n",
        "# Function to generate similar questions\n",
        "def generate_similar_questions(question, num_new=3):\n",
        "    \"\"\"\n",
        "    Generate similar questions based on the original question.\n",
        "\n",
        "    Args:\n",
        "        question: Original question string.\n",
        "        num_new: Number of new similar questions to generate.\n",
        "\n",
        "    Returns:\n",
        "        List of new similar questions.\n",
        "    \"\"\"\n",
        "    templates = [\n",
        "        f\"What do you think about {question.lower()}?\",\n",
        "        f\"Could you share more about {question.lower()}?\",\n",
        "        f\"How do you feel regarding {question.lower()}?\",\n",
        "    ]\n",
        "    return random.sample(templates, num_new)\n",
        "\n",
        "# Function to generate answers\n",
        "def generate_answers(base_answers, num_answers=10):\n",
        "    \"\"\"\n",
        "    Generate new answers based on existing ones.\n",
        "\n",
        "    Args:\n",
        "        base_answers: List of base answers.\n",
        "        num_answers: Number of new answers to generate.\n",
        "\n",
        "    Returns:\n",
        "        List of new answers with slight modifications.\n",
        "    \"\"\"\n",
        "    new_answers = []\n",
        "    for _ in range(num_answers):\n",
        "        random_answer = random.choice(base_answers)\n",
        "        modified_answer = f\"{random_answer} (example {random.randint(1, 100)})\"\n",
        "        new_answers.append(modified_answer)\n",
        "    return new_answers\n",
        "\n",
        "# Generate new questions and answers\n",
        "expanded_data = []\n",
        "for index, row in df.iterrows():\n",
        "    question = row[\"Question\"]\n",
        "    answers = df[df[\"Question\"] == question][\"Answer\"].tolist()\n",
        "\n",
        "    # Ensure at least 10 answers for each question\n",
        "    if len(answers) < 10:\n",
        "        answers.extend(generate_answers(answers, num_answers=10 - len(answers)))\n",
        "\n",
        "    # Generate 3 similar questions for each original question\n",
        "    new_questions = generate_similar_questions(question)\n",
        "    for new_question in new_questions:\n",
        "        new_answers = generate_answers(answers, num_answers=10)\n",
        "        for answer in new_answers:\n",
        "            expanded_data.append({\"Question\": new_question, \"Answer\": answer})\n",
        "\n",
        "# Convert the expanded data into a DataFrame\n",
        "expanded_df = pd.DataFrame(expanded_data)\n",
        "\n",
        "# Function to label the tone of answers\n",
        "def label_tone(answer):\n",
        "    if \"yes\" in answer.lower():\n",
        "        return \"Positive\"\n",
        "    elif \"no\" in answer.lower():\n",
        "        return \"Negative\"\n",
        "    else:\n",
        "        return \"Neutral\"\n",
        "\n",
        "# Add a \"Tone\" column to the DataFrame\n",
        "expanded_df[\"Tone\"] = expanded_df[\"Answer\"].apply(label_tone)\n",
        "\n",
        "# Save the expanded data to a CSV and JSON file\n",
        "expanded_df.to_csv(\"expanded_dataset_step3.csv\", index=False, encoding=\"utf-8\")\n",
        "expanded_df.to_json(\"expanded_dataset_step3.json\", orient=\"records\", indent=4)\n",
        "\n",
        "print(\"Step 3 completed. Data saved to expanded_dataset_step3.csv and expanded_dataset_step3.json\")\n"
      ],
      "metadata": {
        "colab": {
          "base_uri": "https://localhost:8080/"
        },
        "id": "-4jaOxhwoTOI",
        "outputId": "87c2a428-cdf5-4e7e-87e5-9530e1bfd58b"
      },
      "execution_count": 3,
      "outputs": [
        {
          "output_type": "stream",
          "name": "stdout",
          "text": [
            "Step 3 completed. Data saved to expanded_dataset_step3.csv and expanded_dataset_step3.json\n"
          ]
        }
      ]
    }
  ]
}